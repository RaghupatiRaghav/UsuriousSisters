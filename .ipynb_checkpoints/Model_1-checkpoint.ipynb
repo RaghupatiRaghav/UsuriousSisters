{
 "cells": [
  {
   "cell_type": "code",
   "execution_count": 1,
   "metadata": {},
   "outputs": [],
   "source": [
    "#Importing modules\n",
    "import numpy as np\n",
    "import pandas as pd\n",
    "import matplotlib.pyplot as plt\n",
    "import warnings\n",
    "warnings.filterwarnings('ignore')\n",
    "import seaborn as sns\n",
    "import sklearn\n",
    "\n",
    "from sklearn.model_selection import train_test_split\n",
    "from sklearn.model_selection import RandomizedSearchCV\n",
    "from sklearn.model_selection import GridSearchCV\n",
    "import xgboost as xgb\n",
    "from sklearn.metrics import mean_squared_error"
   ]
  },
  {
   "cell_type": "code",
   "execution_count": 2,
   "metadata": {},
   "outputs": [
    {
     "data": {
      "text/html": [
       "<div>\n",
       "<style scoped>\n",
       "    .dataframe tbody tr th:only-of-type {\n",
       "        vertical-align: middle;\n",
       "    }\n",
       "\n",
       "    .dataframe tbody tr th {\n",
       "        vertical-align: top;\n",
       "    }\n",
       "\n",
       "    .dataframe thead th {\n",
       "        text-align: right;\n",
       "    }\n",
       "</style>\n",
       "<table border=\"1\" class=\"dataframe\">\n",
       "  <thead>\n",
       "    <tr style=\"text-align: right;\">\n",
       "      <th></th>\n",
       "      <th>ID</th>\n",
       "      <th>BranchID</th>\n",
       "      <th>Tenure</th>\n",
       "      <th>AssetCost</th>\n",
       "      <th>AmountFinance</th>\n",
       "      <th>DisbursalAmount</th>\n",
       "      <th>EMI</th>\n",
       "      <th>AssetID</th>\n",
       "      <th>ManufacturerID</th>\n",
       "      <th>SupplierID</th>\n",
       "      <th>...</th>\n",
       "      <th>dummy_WEST BENGAL</th>\n",
       "      <th>SUM(DISBURSED-AMT/HIGH CREDIT)</th>\n",
       "      <th>SUM(CURRENT-BAL)</th>\n",
       "      <th>OTHERS-DISBURSED</th>\n",
       "      <th>Disbursal_Dt</th>\n",
       "      <th>Maturity_Dt</th>\n",
       "      <th>Auth_Dt</th>\n",
       "      <th>Disbursal_Dt_U</th>\n",
       "      <th>Maturity_Dt_U</th>\n",
       "      <th>Auth_Dt_U</th>\n",
       "    </tr>\n",
       "  </thead>\n",
       "  <tbody>\n",
       "    <tr>\n",
       "      <th>0</th>\n",
       "      <td>1</td>\n",
       "      <td>1</td>\n",
       "      <td>48</td>\n",
       "      <td>450000</td>\n",
       "      <td>275000.0</td>\n",
       "      <td>275000.0</td>\n",
       "      <td>24000.0</td>\n",
       "      <td>4022465</td>\n",
       "      <td>1568</td>\n",
       "      <td>21946</td>\n",
       "      <td>...</td>\n",
       "      <td>0</td>\n",
       "      <td>2201352.0</td>\n",
       "      <td>618526.0</td>\n",
       "      <td>1926352.0</td>\n",
       "      <td>2012-02-10</td>\n",
       "      <td>2016-01-15</td>\n",
       "      <td>2012-02-10</td>\n",
       "      <td>1.328812e+09</td>\n",
       "      <td>1.452796e+09</td>\n",
       "      <td>1.328812e+09</td>\n",
       "    </tr>\n",
       "    <tr>\n",
       "      <th>1</th>\n",
       "      <td>2</td>\n",
       "      <td>333</td>\n",
       "      <td>47</td>\n",
       "      <td>485000</td>\n",
       "      <td>350000.0</td>\n",
       "      <td>350000.0</td>\n",
       "      <td>10500.0</td>\n",
       "      <td>4681175</td>\n",
       "      <td>1062</td>\n",
       "      <td>34802</td>\n",
       "      <td>...</td>\n",
       "      <td>0</td>\n",
       "      <td>18117081.0</td>\n",
       "      <td>10349457.0</td>\n",
       "      <td>17767081.0</td>\n",
       "      <td>2012-03-31</td>\n",
       "      <td>2016-02-15</td>\n",
       "      <td>2012-03-31</td>\n",
       "      <td>1.333132e+09</td>\n",
       "      <td>1.455475e+09</td>\n",
       "      <td>1.333132e+09</td>\n",
       "    </tr>\n",
       "    <tr>\n",
       "      <th>2</th>\n",
       "      <td>3</td>\n",
       "      <td>1</td>\n",
       "      <td>68</td>\n",
       "      <td>690000</td>\n",
       "      <td>519728.0</td>\n",
       "      <td>519728.0</td>\n",
       "      <td>38300.0</td>\n",
       "      <td>25328146</td>\n",
       "      <td>1060</td>\n",
       "      <td>127335</td>\n",
       "      <td>...</td>\n",
       "      <td>0</td>\n",
       "      <td>3708369.0</td>\n",
       "      <td>2065165.0</td>\n",
       "      <td>3188641.0</td>\n",
       "      <td>2017-06-17</td>\n",
       "      <td>2023-02-10</td>\n",
       "      <td>2017-06-17</td>\n",
       "      <td>1.497638e+09</td>\n",
       "      <td>1.675967e+09</td>\n",
       "      <td>1.497638e+09</td>\n",
       "    </tr>\n",
       "    <tr>\n",
       "      <th>3</th>\n",
       "      <td>7</td>\n",
       "      <td>125</td>\n",
       "      <td>48</td>\n",
       "      <td>480000</td>\n",
       "      <td>400000.0</td>\n",
       "      <td>400000.0</td>\n",
       "      <td>11600.0</td>\n",
       "      <td>13021591</td>\n",
       "      <td>1060</td>\n",
       "      <td>25094</td>\n",
       "      <td>...</td>\n",
       "      <td>0</td>\n",
       "      <td>1272553.0</td>\n",
       "      <td>624000.0</td>\n",
       "      <td>872553.0</td>\n",
       "      <td>2013-11-29</td>\n",
       "      <td>2017-11-10</td>\n",
       "      <td>2013-11-29</td>\n",
       "      <td>1.385663e+09</td>\n",
       "      <td>1.510252e+09</td>\n",
       "      <td>1.385663e+09</td>\n",
       "    </tr>\n",
       "    <tr>\n",
       "      <th>4</th>\n",
       "      <td>8</td>\n",
       "      <td>152</td>\n",
       "      <td>44</td>\n",
       "      <td>619265</td>\n",
       "      <td>440000.0</td>\n",
       "      <td>440000.0</td>\n",
       "      <td>15000.0</td>\n",
       "      <td>3291320</td>\n",
       "      <td>1046</td>\n",
       "      <td>21853</td>\n",
       "      <td>...</td>\n",
       "      <td>0</td>\n",
       "      <td>2025216.0</td>\n",
       "      <td>974119.0</td>\n",
       "      <td>1585216.0</td>\n",
       "      <td>2011-12-08</td>\n",
       "      <td>2015-07-05</td>\n",
       "      <td>2011-12-08</td>\n",
       "      <td>1.323283e+09</td>\n",
       "      <td>1.436035e+09</td>\n",
       "      <td>1.323283e+09</td>\n",
       "    </tr>\n",
       "  </tbody>\n",
       "</table>\n",
       "<p>5 rows × 56 columns</p>\n",
       "</div>"
      ],
      "text/plain": [
       "   ID  BranchID  Tenure  AssetCost  AmountFinance  DisbursalAmount      EMI  \\\n",
       "0   1         1      48     450000       275000.0         275000.0  24000.0   \n",
       "1   2       333      47     485000       350000.0         350000.0  10500.0   \n",
       "2   3         1      68     690000       519728.0         519728.0  38300.0   \n",
       "3   7       125      48     480000       400000.0         400000.0  11600.0   \n",
       "4   8       152      44     619265       440000.0         440000.0  15000.0   \n",
       "\n",
       "    AssetID  ManufacturerID  SupplierID  ...  dummy_WEST BENGAL  \\\n",
       "0   4022465            1568       21946  ...                  0   \n",
       "1   4681175            1062       34802  ...                  0   \n",
       "2  25328146            1060      127335  ...                  0   \n",
       "3  13021591            1060       25094  ...                  0   \n",
       "4   3291320            1046       21853  ...                  0   \n",
       "\n",
       "   SUM(DISBURSED-AMT/HIGH CREDIT)  SUM(CURRENT-BAL)  OTHERS-DISBURSED  \\\n",
       "0                       2201352.0          618526.0         1926352.0   \n",
       "1                      18117081.0        10349457.0        17767081.0   \n",
       "2                       3708369.0         2065165.0         3188641.0   \n",
       "3                       1272553.0          624000.0          872553.0   \n",
       "4                       2025216.0          974119.0         1585216.0   \n",
       "\n",
       "   Disbursal_Dt  Maturity_Dt     Auth_Dt  Disbursal_Dt_U  Maturity_Dt_U  \\\n",
       "0    2012-02-10   2016-01-15  2012-02-10    1.328812e+09   1.452796e+09   \n",
       "1    2012-03-31   2016-02-15  2012-03-31    1.333132e+09   1.455475e+09   \n",
       "2    2017-06-17   2023-02-10  2017-06-17    1.497638e+09   1.675967e+09   \n",
       "3    2013-11-29   2017-11-10  2013-11-29    1.385663e+09   1.510252e+09   \n",
       "4    2011-12-08   2015-07-05  2011-12-08    1.323283e+09   1.436035e+09   \n",
       "\n",
       "      Auth_Dt_U  \n",
       "0  1.328812e+09  \n",
       "1  1.333132e+09  \n",
       "2  1.497638e+09  \n",
       "3  1.385663e+09  \n",
       "4  1.323283e+09  \n",
       "\n",
       "[5 rows x 56 columns]"
      ]
     },
     "execution_count": 2,
     "metadata": {},
     "output_type": "execute_result"
    }
   ],
   "source": [
    "#importing final dataset for training\n",
    "df_dev = pd.read_csv(r'D:\\Coding\\projects\\usurious_sisters\\final_dataset\\final_data_v1.csv')\n",
    "df_dev.head()"
   ]
  },
  {
   "cell_type": "code",
   "execution_count": 3,
   "metadata": {},
   "outputs": [
    {
     "data": {
      "text/plain": [
       "Index(['ID', 'BranchID', 'Tenure', 'AssetCost', 'AmountFinance',\n",
       "       'DisbursalAmount', 'EMI', 'AssetID', 'ManufacturerID', 'SupplierID',\n",
       "       'LTV', 'AGE', 'MonthlyIncome', 'ZiPCODE', 'ASSN_CAT', 'LOAN_STATUS',\n",
       "       'INS_MODE', 'dummy_BI-Monthly', 'dummy_Half Yearly', 'dummy_Monthly',\n",
       "       'dummy_Quatrly', 'dummy_automated', 'dummy_cheque',\n",
       "       'dummy_discretionary', 'dummy_reject', 'dummy_ANDHRA PRADESH',\n",
       "       'dummy_ASSAM', 'dummy_BIHAR', 'dummy_CHANDIGARH', 'dummy_CHATTISGARH',\n",
       "       'dummy_DADRA AND NAGAR HAVELI', 'dummy_DELHI', 'dummy_GUJARAT',\n",
       "       'dummy_HARYANA', 'dummy_HIMACHAL PRADESH', 'dummy_JHARKHAND',\n",
       "       'dummy_KARNATAKA', 'dummy_MADHYA PRADESH', 'dummy_MAHARASHTRA',\n",
       "       'dummy_ORISSA', 'dummy_PUNJAB', 'dummy_RAJASTHAN', 'dummy_TAMIL NADU',\n",
       "       'dummy_TELANGANA', 'dummy_UTTAR PRADESH', 'dummy_UTTARAKHAND',\n",
       "       'dummy_WEST BENGAL', 'SUM(DISBURSED-AMT/HIGH CREDIT)',\n",
       "       'SUM(CURRENT-BAL)', 'OTHERS-DISBURSED', 'Disbursal_Dt', 'Maturity_Dt',\n",
       "       'Auth_Dt', 'Disbursal_Dt_U', 'Maturity_Dt_U', 'Auth_Dt_U'],\n",
       "      dtype='object')"
      ]
     },
     "execution_count": 3,
     "metadata": {},
     "output_type": "execute_result"
    }
   ],
   "source": [
    "#printing column names\n",
    "df_dev.columns"
   ]
  },
  {
   "cell_type": "code",
   "execution_count": 4,
   "metadata": {},
   "outputs": [],
   "source": [
    "#creating X and Y variables for model\n",
    "X_miss_xgb = df_dev[['ID', 'BranchID', 'Tenure', 'AssetCost', 'AmountFinance',\n",
    "       'DisbursalAmount', 'EMI', 'AssetID', 'ManufacturerID', 'SupplierID',\n",
    "       'LTV', 'AGE', 'MonthlyIncome', 'ZiPCODE', 'LOAN_STATUS',\n",
    "       'INS_MODE', 'dummy_BI-Monthly', 'dummy_Half Yearly', 'dummy_Monthly',\n",
    "       'dummy_Quatrly', 'dummy_automated', 'dummy_cheque',\n",
    "       'dummy_discretionary', 'dummy_reject', 'dummy_ANDHRA PRADESH',\n",
    "       'dummy_ASSAM', 'dummy_BIHAR', 'dummy_CHANDIGARH', 'dummy_CHATTISGARH',\n",
    "       'dummy_DADRA AND NAGAR HAVELI', 'dummy_DELHI', 'dummy_GUJARAT',\n",
    "       'dummy_HARYANA', 'dummy_HIMACHAL PRADESH', 'dummy_JHARKHAND',\n",
    "       'dummy_KARNATAKA', 'dummy_MADHYA PRADESH', 'dummy_MAHARASHTRA',\n",
    "       'dummy_ORISSA', 'dummy_PUNJAB', 'dummy_RAJASTHAN', 'dummy_TAMIL NADU',\n",
    "       'dummy_TELANGANA', 'dummy_UTTAR PRADESH', 'dummy_UTTARAKHAND',\n",
    "       'dummy_WEST BENGAL', 'SUM(DISBURSED-AMT/HIGH CREDIT)',\n",
    "       'SUM(CURRENT-BAL)', 'OTHERS-DISBURSED', 'Disbursal_Dt_U', 'Maturity_Dt_U', 'Auth_Dt_U']]\n",
    "Y_miss_xgb = df_dev[[\"ASSN_CAT\"]]"
   ]
  },
  {
   "cell_type": "code",
   "execution_count": 5,
   "metadata": {},
   "outputs": [],
   "source": [
    "#confused - what does this step do?\n",
    "data_dm = xgb.DMatrix(data=X_miss_xgb, label = Y_miss_xgb)"
   ]
  },
  {
   "cell_type": "code",
   "execution_count": 6,
   "metadata": {},
   "outputs": [],
   "source": [
    "#creating train test split\n",
    "X_miss_xgb_train, X_miss_xgb_cv, Y_miss_xgb_train, Y_miss_xgb_cv = train_test_split(X_miss_xgb,Y_miss_xgb,test_size = 0.333, random_state = 123)"
   ]
  },
  {
   "cell_type": "code",
   "execution_count": 7,
   "metadata": {},
   "outputs": [],
   "source": [
    "#defining xgb hyper-parameters\n",
    "xg_class = xgb.XGBClassifier(objective = \"multi:softmax\", colsample_bytree = 1,gamma = 1,\n",
    "                             subsample = 0.8, learning_rate = 0.01, max_depth = 5, alpha = 10,\n",
    "                             n_estimators = 1000, multilabel_ =True, num_classes = 3,max_delta_step = 2)"
   ]
  },
  {
   "cell_type": "code",
   "execution_count": 8,
   "metadata": {},
   "outputs": [
    {
     "name": "stdout",
     "output_type": "stream",
     "text": [
      "[12:30:21] WARNING: C:/Users/Administrator/workspace/xgboost-win64_release_1.3.0/src/learner.cc:541: \n",
      "Parameters: { multilabel_, num_classes } might not be used.\n",
      "\n",
      "  This may not be accurate due to some parameters are only used in language bindings but\n",
      "  passed down to XGBoost core.  Or some parameters are not used but slip through this\n",
      "  verification. Please open an issue if you find above cases.\n",
      "\n",
      "\n",
      "[12:30:22] WARNING: C:/Users/Administrator/workspace/xgboost-win64_release_1.3.0/src/learner.cc:1061: Starting in XGBoost 1.3.0, the default evaluation metric used with the objective 'multi:softprob' was changed from 'merror' to 'mlogloss'. Explicitly set eval_metric if you'd like to restore the old behavior.\n"
     ]
    },
    {
     "data": {
      "text/plain": [
       "XGBClassifier(alpha=10, base_score=0.5, booster='gbtree', colsample_bylevel=1,\n",
       "              colsample_bynode=1, colsample_bytree=1, gamma=1, gpu_id=-1,\n",
       "              importance_type='gain', interaction_constraints='',\n",
       "              learning_rate=0.01, max_delta_step=2, max_depth=5,\n",
       "              min_child_weight=1, missing=nan, monotone_constraints='()',\n",
       "              multilabel_=True, n_estimators=1000, n_jobs=4, num_classes=3,\n",
       "              num_parallel_tree=1, objective='multi:softprob', random_state=0,\n",
       "              reg_alpha=10, reg_lambda=1, scale_pos_weight=None, subsample=0.8,\n",
       "              tree_method='exact', validate_parameters=1, verbosity=None)"
      ]
     },
     "execution_count": 8,
     "metadata": {},
     "output_type": "execute_result"
    }
   ],
   "source": [
    "#training the model\n",
    "xg_class.fit(X_miss_xgb_train, Y_miss_xgb_train)"
   ]
  },
  {
   "cell_type": "code",
   "execution_count": 10,
   "metadata": {},
   "outputs": [
    {
     "data": {
      "image/png": "[encoded data removed]",
      "text/plain": [
       "<Figure size 864x1296 with 1 Axes>"
      ]
     },
     "metadata": {
      "needs_background": "light"
     },
     "output_type": "display_data"
    }
   ],
   "source": [
    "#generating feature importance plot\n",
    "xgb.plot_importance(xg_class)\n",
    "plt.rcParams['figure.figsize'] = [12,18]\n",
    "plt.show()"
   ]
  },
  {
   "cell_type": "markdown",
   "metadata": {},
   "source": [
    "## Testing on Cross Validation Set"
   ]
  },
  {
   "cell_type": "code",
   "execution_count": 11,
   "metadata": {},
   "outputs": [],
   "source": [
    "#testing on cross validation set\n",
    "preds_miss_xgb = xg_class.predict(X_miss_xgb_cv)"
   ]
  },
  {
   "cell_type": "code",
   "execution_count": 12,
   "metadata": {},
   "outputs": [],
   "source": [
    "preds_miss_xgb_df = pd.DataFrame(preds_miss_xgb)\n",
    "preds_miss_xgb_df.rename(columns = {0:'predictions'},inplace = True)"
   ]
  },
  {
   "cell_type": "code",
   "execution_count": 13,
   "metadata": {},
   "outputs": [
    {
     "data": {
      "text/html": [
       "<div>\n",
       "<style scoped>\n",
       "    .dataframe tbody tr th:only-of-type {\n",
       "        vertical-align: middle;\n",
       "    }\n",
       "\n",
       "    .dataframe tbody tr th {\n",
       "        vertical-align: top;\n",
       "    }\n",
       "\n",
       "    .dataframe thead th {\n",
       "        text-align: right;\n",
       "    }\n",
       "</style>\n",
       "<table border=\"1\" class=\"dataframe\">\n",
       "  <thead>\n",
       "    <tr style=\"text-align: right;\">\n",
       "      <th></th>\n",
       "      <th>ASSN_CAT</th>\n",
       "      <th>predictions</th>\n",
       "    </tr>\n",
       "  </thead>\n",
       "  <tbody>\n",
       "    <tr>\n",
       "      <th>0</th>\n",
       "      <td>0</td>\n",
       "      <td>0</td>\n",
       "    </tr>\n",
       "    <tr>\n",
       "      <th>1</th>\n",
       "      <td>0</td>\n",
       "      <td>0</td>\n",
       "    </tr>\n",
       "    <tr>\n",
       "      <th>2</th>\n",
       "      <td>0</td>\n",
       "      <td>0</td>\n",
       "    </tr>\n",
       "    <tr>\n",
       "      <th>3</th>\n",
       "      <td>0</td>\n",
       "      <td>0</td>\n",
       "    </tr>\n",
       "    <tr>\n",
       "      <th>4</th>\n",
       "      <td>5</td>\n",
       "      <td>0</td>\n",
       "    </tr>\n",
       "    <tr>\n",
       "      <th>...</th>\n",
       "      <td>...</td>\n",
       "      <td>...</td>\n",
       "    </tr>\n",
       "    <tr>\n",
       "      <th>42838</th>\n",
       "      <td>0</td>\n",
       "      <td>0</td>\n",
       "    </tr>\n",
       "    <tr>\n",
       "      <th>42839</th>\n",
       "      <td>0</td>\n",
       "      <td>0</td>\n",
       "    </tr>\n",
       "    <tr>\n",
       "      <th>42840</th>\n",
       "      <td>6</td>\n",
       "      <td>0</td>\n",
       "    </tr>\n",
       "    <tr>\n",
       "      <th>42841</th>\n",
       "      <td>0</td>\n",
       "      <td>0</td>\n",
       "    </tr>\n",
       "    <tr>\n",
       "      <th>42842</th>\n",
       "      <td>0</td>\n",
       "      <td>0</td>\n",
       "    </tr>\n",
       "  </tbody>\n",
       "</table>\n",
       "<p>42843 rows × 2 columns</p>\n",
       "</div>"
      ],
      "text/plain": [
       "       ASSN_CAT  predictions\n",
       "0             0            0\n",
       "1             0            0\n",
       "2             0            0\n",
       "3             0            0\n",
       "4             5            0\n",
       "...         ...          ...\n",
       "42838         0            0\n",
       "42839         0            0\n",
       "42840         6            0\n",
       "42841         0            0\n",
       "42842         0            0\n",
       "\n",
       "[42843 rows x 2 columns]"
      ]
     },
     "execution_count": 13,
     "metadata": {},
     "output_type": "execute_result"
    }
   ],
   "source": [
    "Y_miss_xgb_test_nind = Y_miss_xgb_cv.reset_index()\n",
    "Y_miss_xgb_test_nind.drop(['index'],axis = 1, inplace = True)\n",
    "preds_actuals_df = pd.concat([Y_miss_xgb_test_nind, preds_miss_xgb_df], axis = 1)\n",
    "preds_actuals_df"
   ]
  },
  {
   "cell_type": "code",
   "execution_count": 14,
   "metadata": {},
   "outputs": [
    {
     "name": "stdout",
     "output_type": "stream",
     "text": [
      "0.7700654255804961\n"
     ]
    }
   ],
   "source": [
    "#calculating the f1 score\n",
    "score = sklearn.metrics.f1_score(preds_actuals_df['ASSN_CAT'],preds_actuals_df['predictions'], average = 'weighted')\n",
    "print(score)"
   ]
  },
  {
   "cell_type": "markdown",
   "metadata": {},
   "source": [
    "## Testing on Test dataset "
   ]
  },
  {
   "cell_type": "code",
   "execution_count": 19,
   "metadata": {},
   "outputs": [],
   "source": [
    "#reading the test dataset final\n",
    "df_test = pd.read_csv(r\"D:\\Coding\\projects\\usurious_sisters\\final_dataset\\final_data_test.csv\")"
   ]
  },
  {
   "cell_type": "code",
   "execution_count": 20,
   "metadata": {},
   "outputs": [],
   "source": [
    "#removing the date format dates, only unix timestamps now remain\n",
    "df_test_f = df_test[['ID', 'BranchID', 'Tenure', 'AssetCost', 'AmountFinance',\n",
    "       'DisbursalAmount', 'EMI', 'AssetID', 'ManufacturerID', 'SupplierID',\n",
    "       'LTV', 'AGE', 'MonthlyIncome', 'ZiPCODE', 'LOAN_STATUS',\n",
    "       'INS_MODE', 'dummy_BI-Monthly', 'dummy_Half Yearly', 'dummy_Monthly',\n",
    "       'dummy_Quatrly', 'dummy_automated', 'dummy_cheque',\n",
    "       'dummy_discretionary', 'dummy_reject', 'dummy_ANDHRA PRADESH',\n",
    "       'dummy_ASSAM', 'dummy_BIHAR', 'dummy_CHANDIGARH', 'dummy_CHATTISGARH',\n",
    "       'dummy_DADRA AND NAGAR HAVELI', 'dummy_DELHI', 'dummy_GUJARAT',\n",
    "       'dummy_HARYANA', 'dummy_HIMACHAL PRADESH', 'dummy_JHARKHAND',\n",
    "       'dummy_KARNATAKA', 'dummy_MADHYA PRADESH', 'dummy_MAHARASHTRA',\n",
    "       'dummy_ORISSA', 'dummy_PUNJAB', 'dummy_RAJASTHAN', 'dummy_TAMIL NADU',\n",
    "       'dummy_TELANGANA', 'dummy_UTTAR PRADESH', 'dummy_UTTARAKHAND',\n",
    "       'dummy_WEST BENGAL', 'SUM(DISBURSED-AMT/HIGH CREDIT)',\n",
    "       'SUM(CURRENT-BAL)', 'OTHERS-DISBURSED', 'Disbursal_Dt_U', 'Maturity_Dt_U', 'Auth_Dt_U']]"
   ]
  },
  {
   "cell_type": "code",
   "execution_count": 22,
   "metadata": {},
   "outputs": [
    {
     "data": {
      "text/html": [
       "<div>\n",
       "<style scoped>\n",
       "    .dataframe tbody tr th:only-of-type {\n",
       "        vertical-align: middle;\n",
       "    }\n",
       "\n",
       "    .dataframe tbody tr th {\n",
       "        vertical-align: top;\n",
       "    }\n",
       "\n",
       "    .dataframe thead th {\n",
       "        text-align: right;\n",
       "    }\n",
       "</style>\n",
       "<table border=\"1\" class=\"dataframe\">\n",
       "  <thead>\n",
       "    <tr style=\"text-align: right;\">\n",
       "      <th></th>\n",
       "      <th>0</th>\n",
       "    </tr>\n",
       "  </thead>\n",
       "  <tbody>\n",
       "    <tr>\n",
       "      <th>14740</th>\n",
       "      <td>0</td>\n",
       "    </tr>\n",
       "    <tr>\n",
       "      <th>14741</th>\n",
       "      <td>0</td>\n",
       "    </tr>\n",
       "    <tr>\n",
       "      <th>14742</th>\n",
       "      <td>0</td>\n",
       "    </tr>\n",
       "    <tr>\n",
       "      <th>14743</th>\n",
       "      <td>0</td>\n",
       "    </tr>\n",
       "    <tr>\n",
       "      <th>14744</th>\n",
       "      <td>0</td>\n",
       "    </tr>\n",
       "  </tbody>\n",
       "</table>\n",
       "</div>"
      ],
      "text/plain": [
       "       0\n",
       "14740  0\n",
       "14741  0\n",
       "14742  0\n",
       "14743  0\n",
       "14744  0"
      ]
     },
     "execution_count": 22,
     "metadata": {},
     "output_type": "execute_result"
    }
   ],
   "source": [
    "preds_xgb_leader = xg_class.predict(df_test_f)\n",
    "preds_xgb_leader = pd.DataFrame(preds_xgb_leader)"
   ]
  },
  {
   "cell_type": "code",
   "execution_count": 29,
   "metadata": {},
   "outputs": [
    {
     "name": "stdout",
     "output_type": "stream",
     "text": [
      "(14745, 1)\n"
     ]
    },
    {
     "data": {
      "text/html": [
       "<div>\n",
       "<style scoped>\n",
       "    .dataframe tbody tr th:only-of-type {\n",
       "        vertical-align: middle;\n",
       "    }\n",
       "\n",
       "    .dataframe tbody tr th {\n",
       "        vertical-align: top;\n",
       "    }\n",
       "\n",
       "    .dataframe thead th {\n",
       "        text-align: right;\n",
       "    }\n",
       "</style>\n",
       "<table border=\"1\" class=\"dataframe\">\n",
       "  <thead>\n",
       "    <tr style=\"text-align: right;\">\n",
       "      <th></th>\n",
       "      <th>0</th>\n",
       "    </tr>\n",
       "  </thead>\n",
       "  <tbody>\n",
       "    <tr>\n",
       "      <th>14740</th>\n",
       "      <td>0</td>\n",
       "    </tr>\n",
       "    <tr>\n",
       "      <th>14741</th>\n",
       "      <td>0</td>\n",
       "    </tr>\n",
       "    <tr>\n",
       "      <th>14742</th>\n",
       "      <td>0</td>\n",
       "    </tr>\n",
       "    <tr>\n",
       "      <th>14743</th>\n",
       "      <td>0</td>\n",
       "    </tr>\n",
       "    <tr>\n",
       "      <th>14744</th>\n",
       "      <td>0</td>\n",
       "    </tr>\n",
       "  </tbody>\n",
       "</table>\n",
       "</div>"
      ],
      "text/plain": [
       "       0\n",
       "14740  0\n",
       "14741  0\n",
       "14742  0\n",
       "14743  0\n",
       "14744  0"
      ]
     },
     "execution_count": 29,
     "metadata": {},
     "output_type": "execute_result"
    }
   ],
   "source": [
    "print(preds_xgb_leader.shape)\n",
    "preds_xgb_leader.tail()"
   ]
  },
  {
   "cell_type": "code",
   "execution_count": 28,
   "metadata": {},
   "outputs": [
    {
     "data": {
      "text/plain": [
       "array([0, 6, 3, 2, 1, 4, 5], dtype=int64)"
      ]
     },
     "execution_count": 28,
     "metadata": {},
     "output_type": "execute_result"
    }
   ],
   "source": [
    "#QC\n",
    "preds_xgb_leader[0].unique()\n",
    "#pass - we have all the values we needed"
   ]
  },
  {
   "cell_type": "code",
   "execution_count": 33,
   "metadata": {},
   "outputs": [],
   "source": [
    "preds_xgb_leader.rename(columns={0:'predictions_numeric'}, inplace = True)"
   ]
  },
  {
   "cell_type": "code",
   "execution_count": 34,
   "metadata": {},
   "outputs": [],
   "source": [
    "#formatting preds_xgb_leader dataframe - changing column names and assigning the required bucket values.\n",
    "preds_xgb_leader['predictions_categorical'] = 1000\n",
    "preds_xgb_leader.loc[preds_xgb_leader['predictions_numeric']==0, 'predictions_categorical'] = \"No Top-up Service\"\n",
    "preds_xgb_leader.loc[preds_xgb_leader['predictions_numeric']==1, 'predictions_categorical'] = \"12-18 Months\"\n",
    "preds_xgb_leader.loc[preds_xgb_leader['predictions_numeric']==2, 'predictions_categorical'] = \"18-24 Months\"\n",
    "preds_xgb_leader.loc[preds_xgb_leader['predictions_numeric']==3, 'predictions_categorical'] = \"24-30 Months\"\n",
    "preds_xgb_leader.loc[preds_xgb_leader['predictions_numeric']==4, 'predictions_categorical'] = \"30-36 Months\"\n",
    "preds_xgb_leader.loc[preds_xgb_leader['predictions_numeric']==5, 'predictions_categorical'] = \"36-48 Months\"\n",
    "preds_xgb_leader.loc[preds_xgb_leader['predictions_numeric']==6, 'predictions_categorical'] = \" > 48 Months\""
   ]
  },
  {
   "cell_type": "code",
   "execution_count": 35,
   "metadata": {},
   "outputs": [
    {
     "data": {
      "text/plain": [
       "array(['No Top-up Service', ' > 48 Months', '24-30 Months',\n",
       "       '18-24 Months', '12-18 Months', '30-36 Months', '36-48 Months'],\n",
       "      dtype=object)"
      ]
     },
     "execution_count": 35,
     "metadata": {},
     "output_type": "execute_result"
    }
   ],
   "source": [
    "#QC\n",
    "preds_xgb_leader.predictions_categorical.unique()\n",
    "#pass"
   ]
  },
  {
   "cell_type": "code",
   "execution_count": 36,
   "metadata": {},
   "outputs": [
    {
     "data": {
      "text/html": [
       "<div>\n",
       "<style scoped>\n",
       "    .dataframe tbody tr th:only-of-type {\n",
       "        vertical-align: middle;\n",
       "    }\n",
       "\n",
       "    .dataframe tbody tr th {\n",
       "        vertical-align: top;\n",
       "    }\n",
       "\n",
       "    .dataframe thead th {\n",
       "        text-align: right;\n",
       "    }\n",
       "</style>\n",
       "<table border=\"1\" class=\"dataframe\">\n",
       "  <thead>\n",
       "    <tr style=\"text-align: right;\">\n",
       "      <th></th>\n",
       "      <th>predictions_numeric</th>\n",
       "      <th>predictions_categorical</th>\n",
       "    </tr>\n",
       "  </thead>\n",
       "  <tbody>\n",
       "    <tr>\n",
       "      <th>0</th>\n",
       "      <td>0</td>\n",
       "      <td>No Top-up Service</td>\n",
       "    </tr>\n",
       "    <tr>\n",
       "      <th>1</th>\n",
       "      <td>0</td>\n",
       "      <td>No Top-up Service</td>\n",
       "    </tr>\n",
       "    <tr>\n",
       "      <th>2</th>\n",
       "      <td>0</td>\n",
       "      <td>No Top-up Service</td>\n",
       "    </tr>\n",
       "    <tr>\n",
       "      <th>3</th>\n",
       "      <td>0</td>\n",
       "      <td>No Top-up Service</td>\n",
       "    </tr>\n",
       "    <tr>\n",
       "      <th>4</th>\n",
       "      <td>0</td>\n",
       "      <td>No Top-up Service</td>\n",
       "    </tr>\n",
       "  </tbody>\n",
       "</table>\n",
       "</div>"
      ],
      "text/plain": [
       "   predictions_numeric predictions_categorical\n",
       "0                    0       No Top-up Service\n",
       "1                    0       No Top-up Service\n",
       "2                    0       No Top-up Service\n",
       "3                    0       No Top-up Service\n",
       "4                    0       No Top-up Service"
      ]
     },
     "execution_count": 36,
     "metadata": {},
     "output_type": "execute_result"
    }
   ],
   "source": [
    "preds_xgb_leader.head()"
   ]
  },
  {
   "cell_type": "code",
   "execution_count": 37,
   "metadata": {},
   "outputs": [
    {
     "name": "stdout",
     "output_type": "stream",
     "text": [
      "(14745, 1)\n"
     ]
    },
    {
     "data": {
      "text/html": [
       "<div>\n",
       "<style scoped>\n",
       "    .dataframe tbody tr th:only-of-type {\n",
       "        vertical-align: middle;\n",
       "    }\n",
       "\n",
       "    .dataframe tbody tr th {\n",
       "        vertical-align: top;\n",
       "    }\n",
       "\n",
       "    .dataframe thead th {\n",
       "        text-align: right;\n",
       "    }\n",
       "</style>\n",
       "<table border=\"1\" class=\"dataframe\">\n",
       "  <thead>\n",
       "    <tr style=\"text-align: right;\">\n",
       "      <th></th>\n",
       "      <th>ID</th>\n",
       "    </tr>\n",
       "  </thead>\n",
       "  <tbody>\n",
       "    <tr>\n",
       "      <th>0</th>\n",
       "      <td>4</td>\n",
       "    </tr>\n",
       "    <tr>\n",
       "      <th>1</th>\n",
       "      <td>5</td>\n",
       "    </tr>\n",
       "    <tr>\n",
       "      <th>2</th>\n",
       "      <td>6</td>\n",
       "    </tr>\n",
       "    <tr>\n",
       "      <th>3</th>\n",
       "      <td>25</td>\n",
       "    </tr>\n",
       "    <tr>\n",
       "      <th>4</th>\n",
       "      <td>119</td>\n",
       "    </tr>\n",
       "  </tbody>\n",
       "</table>\n",
       "</div>"
      ],
      "text/plain": [
       "    ID\n",
       "0    4\n",
       "1    5\n",
       "2    6\n",
       "3   25\n",
       "4  119"
      ]
     },
     "execution_count": 37,
     "metadata": {},
     "output_type": "execute_result"
    }
   ],
   "source": [
    "#importing the submissions template csv\n",
    "submission_df = pd.read_csv(r'D:\\Coding\\projects\\usurious_sisters\\submissions\\submission_template.csv')\n",
    "print(submission_df.shape)\n",
    "submission_df.head()"
   ]
  },
  {
   "cell_type": "code",
   "execution_count": 38,
   "metadata": {},
   "outputs": [
    {
     "data": {
      "text/html": [
       "<div>\n",
       "<style scoped>\n",
       "    .dataframe tbody tr th:only-of-type {\n",
       "        vertical-align: middle;\n",
       "    }\n",
       "\n",
       "    .dataframe tbody tr th {\n",
       "        vertical-align: top;\n",
       "    }\n",
       "\n",
       "    .dataframe thead th {\n",
       "        text-align: right;\n",
       "    }\n",
       "</style>\n",
       "<table border=\"1\" class=\"dataframe\">\n",
       "  <thead>\n",
       "    <tr style=\"text-align: right;\">\n",
       "      <th></th>\n",
       "      <th>ID</th>\n",
       "      <th>predictions_numeric</th>\n",
       "      <th>predictions_categorical</th>\n",
       "    </tr>\n",
       "  </thead>\n",
       "  <tbody>\n",
       "    <tr>\n",
       "      <th>0</th>\n",
       "      <td>4</td>\n",
       "      <td>0</td>\n",
       "      <td>No Top-up Service</td>\n",
       "    </tr>\n",
       "    <tr>\n",
       "      <th>1</th>\n",
       "      <td>5</td>\n",
       "      <td>0</td>\n",
       "      <td>No Top-up Service</td>\n",
       "    </tr>\n",
       "    <tr>\n",
       "      <th>2</th>\n",
       "      <td>6</td>\n",
       "      <td>0</td>\n",
       "      <td>No Top-up Service</td>\n",
       "    </tr>\n",
       "    <tr>\n",
       "      <th>3</th>\n",
       "      <td>25</td>\n",
       "      <td>0</td>\n",
       "      <td>No Top-up Service</td>\n",
       "    </tr>\n",
       "    <tr>\n",
       "      <th>4</th>\n",
       "      <td>119</td>\n",
       "      <td>0</td>\n",
       "      <td>No Top-up Service</td>\n",
       "    </tr>\n",
       "  </tbody>\n",
       "</table>\n",
       "</div>"
      ],
      "text/plain": [
       "    ID  predictions_numeric predictions_categorical\n",
       "0    4                    0       No Top-up Service\n",
       "1    5                    0       No Top-up Service\n",
       "2    6                    0       No Top-up Service\n",
       "3   25                    0       No Top-up Service\n",
       "4  119                    0       No Top-up Service"
      ]
     },
     "execution_count": 38,
     "metadata": {},
     "output_type": "execute_result"
    }
   ],
   "source": [
    "#attaching the predictions columns\n",
    "submission_df = pd.concat([submission_df, preds_xgb_leader], axis = 1)\n",
    "submission_df.head()"
   ]
  },
  {
   "cell_type": "code",
   "execution_count": 39,
   "metadata": {},
   "outputs": [],
   "source": [
    "#renaming columns and deleting predictions_numeric\n",
    "submission_df.drop(['predictions_numeric'], axis = 1, inplace = True)\n",
    "submission_df.rename(columns={'predictions_categorical':'Top-up Month'}, inplace = True)"
   ]
  },
  {
   "cell_type": "code",
   "execution_count": 42,
   "metadata": {},
   "outputs": [
    {
     "data": {
      "text/html": [
       "<div>\n",
       "<style scoped>\n",
       "    .dataframe tbody tr th:only-of-type {\n",
       "        vertical-align: middle;\n",
       "    }\n",
       "\n",
       "    .dataframe tbody tr th {\n",
       "        vertical-align: top;\n",
       "    }\n",
       "\n",
       "    .dataframe thead th {\n",
       "        text-align: right;\n",
       "    }\n",
       "</style>\n",
       "<table border=\"1\" class=\"dataframe\">\n",
       "  <thead>\n",
       "    <tr style=\"text-align: right;\">\n",
       "      <th></th>\n",
       "      <th>ID</th>\n",
       "      <th>Top-up Month</th>\n",
       "    </tr>\n",
       "  </thead>\n",
       "  <tbody>\n",
       "    <tr>\n",
       "      <th>0</th>\n",
       "      <td>4</td>\n",
       "      <td>No Top-up Service</td>\n",
       "    </tr>\n",
       "    <tr>\n",
       "      <th>1</th>\n",
       "      <td>5</td>\n",
       "      <td>No Top-up Service</td>\n",
       "    </tr>\n",
       "    <tr>\n",
       "      <th>2</th>\n",
       "      <td>6</td>\n",
       "      <td>No Top-up Service</td>\n",
       "    </tr>\n",
       "    <tr>\n",
       "      <th>3</th>\n",
       "      <td>25</td>\n",
       "      <td>No Top-up Service</td>\n",
       "    </tr>\n",
       "    <tr>\n",
       "      <th>4</th>\n",
       "      <td>119</td>\n",
       "      <td>No Top-up Service</td>\n",
       "    </tr>\n",
       "  </tbody>\n",
       "</table>\n",
       "</div>"
      ],
      "text/plain": [
       "    ID       Top-up Month\n",
       "0    4  No Top-up Service\n",
       "1    5  No Top-up Service\n",
       "2    6  No Top-up Service\n",
       "3   25  No Top-up Service\n",
       "4  119  No Top-up Service"
      ]
     },
     "execution_count": 42,
     "metadata": {},
     "output_type": "execute_result"
    }
   ],
   "source": [
    "submission_df.head()"
   ]
  },
  {
   "cell_type": "code",
   "execution_count": null,
   "metadata": {},
   "outputs": [],
   "source": []
  }
 ],
 "metadata": {
  "kernelspec": {
   "display_name": "Python 3",
   "language": "python",
   "name": "python3"
  },
  "language_info": {
   "codemirror_mode": {
    "name": "ipython",
    "version": 3
   },
   "file_extension": ".py",
   "mimetype": "text/x-python",
   "name": "python",
   "nbconvert_exporter": "python",
   "pygments_lexer": "ipython3",
   "version": "3.7.1"
  }
 },
 "nbformat": 4,
 "nbformat_minor": 4
}
